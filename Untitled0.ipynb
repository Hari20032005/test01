{
  "nbformat": 4,
  "nbformat_minor": 0,
  "metadata": {
    "colab": {
      "provenance": [],
      "authorship_tag": "ABX9TyPVOs7Tci+S+wOB/d2PrOwK",
      "include_colab_link": true
    },
    "kernelspec": {
      "name": "python3",
      "display_name": "Python 3"
    },
    "language_info": {
      "name": "python"
    }
  },
  "cells": [
    {
      "cell_type": "markdown",
      "metadata": {
        "id": "view-in-github",
        "colab_type": "text"
      },
      "source": [
        "<a href=\"https://colab.research.google.com/github/Hari20032005/test01/blob/main/Untitled0.ipynb\" target=\"_parent\"><img src=\"https://colab.research.google.com/assets/colab-badge.svg\" alt=\"Open In Colab\"/></a>"
      ]
    },
    {
      "cell_type": "code",
      "source": [
        "import pandas as pd\n",
        "from sklearn.model_selection import train_test_split\n",
        "from sklearn.preprocessing import StandardScaler\n",
        "from sklearn.svm import SVC\n",
        "from sklearn.pipeline import Pipeline\n",
        "from sklearn.model_selection import GridSearchCV\n",
        "import pickle\n",
        "\n",
        "\n",
        "# Load the data\n",
        "df = pd.read_csv('heart.csv')\n",
        "\n",
        "# Define features and target\n",
        "X = df.drop('target', axis=1)\n",
        "y = df['target']\n",
        "\n",
        "# Split the data\n",
        "X_train, X_test, y_train, y_test = train_test_split(X, y, test_size=0.2, random_state=42)\n",
        "\n",
        "# Create a pipeline\n",
        "svm_pipeline = Pipeline([\n",
        "    ('scaler', StandardScaler()),\n",
        "    ('svm', SVC(probability=True))\n",
        "])\n",
        "\n",
        "# Define parameter grid\n",
        "param_grid = {\n",
        "    'svm__C': [0.1, 1, 10, 100],\n",
        "    'svm__gamma': ['scale', 'auto', 0.1, 1],\n",
        "    'svm__kernel': ['rbf', 'poly', 'sigmoid']\n",
        "}\n",
        "\n",
        "# Perform grid search\n",
        "grid_search = GridSearchCV(svm_pipeline, param_grid, cv=5, scoring='accuracy', n_jobs=-1)\n",
        "grid_search.fit(X_train, y_train)\n",
        "\n",
        "# Get the best model\n",
        "best_svm = grid_search.best_estimator_\n",
        "\n",
        "# Evaluate the model\n",
        "train_accuracy = best_svm.score(X_train, y_train)\n",
        "test_accuracy = best_svm.score(X_test, y_test)\n",
        "\n",
        "print(f\"Best parameters: {grid_search.best_params_}\")\n",
        "print(f\"Training Accuracy: {train_accuracy:.4f}\")\n",
        "print(f\"Test Accuracy: {test_accuracy:.4f}\")\n",
        "\n",
        "# Save the model\n",
        "with open('model.pkl', 'wb') as file:\n",
        "    pickle.dump(best_svm, file)"
      ],
      "metadata": {
        "id": "UIu7Kv2jPtG5",
        "colab": {
          "base_uri": "https://localhost:8080/"
        },
        "outputId": "3e6047ea-fa03-4b30-f105-726f3b9ff7f0"
      },
      "execution_count": 2,
      "outputs": [
        {
          "output_type": "stream",
          "name": "stdout",
          "text": [
            "Best parameters: {'svm__C': 1, 'svm__gamma': 'scale', 'svm__kernel': 'rbf'}\n",
            "Training Accuracy: 0.9215\n",
            "Test Accuracy: 0.8689\n"
          ]
        }
      ]
    },
    {
      "cell_type": "code",
      "source": [
        "import pandas as pd\n",
        "import pickle\n",
        "import numpy as np\n",
        "\n",
        "# Load the model\n",
        "with open('model.pkl', 'rb') as file:\n",
        "    model = pickle.load(file)\n",
        "\n",
        "# Define feature names as per the dataset\n",
        "feature_names = ['age', 'sex', 'cp', 'trestbps', 'chol', 'fbs', 'restecg', 'thalach',\n",
        "                 'exang', 'oldpeak', 'slope', 'ca', 'thal']\n",
        "\n",
        "# Function to take input from the user for prediction\n",
        "def take_input():\n",
        "    user_input = []\n",
        "    for feature in feature_names:\n",
        "        value = float(input(f\"Enter value for {feature}: \"))\n",
        "        user_input.append(value)\n",
        "    return np.array([user_input])\n",
        "\n",
        "# Get user input\n",
        "input_data = take_input()\n",
        "\n",
        "# Predict using the loaded model\n",
        "prediction = model.predict(input_data)\n",
        "prediction_prob = model.predict_proba(input_data)\n",
        "\n",
        "# Output the result\n",
        "if prediction[0] == 1:\n",
        "    print(\"The model predicts that the person has heart disease.\")\n",
        "else:\n",
        "    print(\"The model predicts that the person does not have heart disease.\")\n",
        "\n",
        "print(f\"Prediction probability: {prediction_prob[0]}\")\n"
      ],
      "metadata": {
        "colab": {
          "base_uri": "https://localhost:8080/"
        },
        "id": "pUBwDADyhSu0",
        "outputId": "14062ec1-d930-4e10-8f49-32e5dcb1d6cd"
      },
      "execution_count": 3,
      "outputs": [
        {
          "output_type": "stream",
          "name": "stdout",
          "text": [
            "Enter value for age: 10\n",
            "Enter value for sex: 1\n",
            "Enter value for cp: 2\n",
            "Enter value for trestbps: 12\n",
            "Enter value for chol: 232\n",
            "Enter value for fbs: 12\n",
            "Enter value for restecg: 123\n",
            "Enter value for thalach: 123\n",
            "Enter value for exang: 1\n",
            "Enter value for oldpeak: 1\n",
            "Enter value for slope: 1\n",
            "Enter value for ca: 1\n",
            "Enter value for thal: 1\n",
            "The model predicts that the person has heart disease.\n",
            "Prediction probability: [0.48642741 0.51357259]\n"
          ]
        },
        {
          "output_type": "stream",
          "name": "stderr",
          "text": [
            "/usr/local/lib/python3.10/dist-packages/sklearn/base.py:493: UserWarning: X does not have valid feature names, but StandardScaler was fitted with feature names\n",
            "  warnings.warn(\n",
            "/usr/local/lib/python3.10/dist-packages/sklearn/base.py:493: UserWarning: X does not have valid feature names, but StandardScaler was fitted with feature names\n",
            "  warnings.warn(\n"
          ]
        }
      ]
    }
  ]
}